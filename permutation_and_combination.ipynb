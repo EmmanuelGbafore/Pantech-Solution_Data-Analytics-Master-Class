{
  "nbformat": 4,
  "nbformat_minor": 0,
  "metadata": {
    "colab": {
      "provenance": [],
      "authorship_tag": "ABX9TyN9KML2jRKD1i9woY8Ou3F1",
      "include_colab_link": true
    },
    "kernelspec": {
      "name": "python3",
      "display_name": "Python 3"
    },
    "language_info": {
      "name": "python"
    }
  },
  "cells": [
    {
      "cell_type": "markdown",
      "metadata": {
        "id": "view-in-github",
        "colab_type": "text"
      },
      "source": [
        "<a href=\"https://colab.research.google.com/github/EmmanuelGbafore/Pantech-Solution_Data-Analytics-Master-Class/blob/main/permutation_and_combination.ipynb\" target=\"_parent\"><img src=\"https://colab.research.google.com/assets/colab-badge.svg\" alt=\"Open In Colab\"/></a>"
      ]
    },
    {
      "cell_type": "code",
      "source": [
        "# Using itertool library for permutation\n",
        "\n",
        "from itertools import permutations\n",
        "count=0\n",
        "data=[1,2,3]\n",
        "perm = permutations (data,2)\n",
        "for i in list (perm):\n",
        "  print(i)\n",
        "  count += 1\n",
        "  print(\"Permutation Count: \", count)"
      ],
      "metadata": {
        "colab": {
          "base_uri": "https://localhost:8080/"
        },
        "id": "PR_foigUQkzx",
        "outputId": "f680d9c3-309e-4e10-a620-62fb1aa277f0"
      },
      "execution_count": 3,
      "outputs": [
        {
          "output_type": "stream",
          "name": "stdout",
          "text": [
            "(1, 2)\n",
            "Permutation Count:  1\n",
            "(1, 3)\n",
            "Permutation Count:  2\n",
            "(2, 1)\n",
            "Permutation Count:  3\n",
            "(2, 3)\n",
            "Permutation Count:  4\n",
            "(3, 1)\n",
            "Permutation Count:  5\n",
            "(3, 2)\n",
            "Permutation Count:  6\n"
          ]
        }
      ]
    },
    {
      "cell_type": "code",
      "source": [
        "#Combination\n",
        "\n",
        "from itertools import combinations\n",
        "count = 0\n",
        "data = [1,2,3]\n",
        "data2 = [2,1,3]\n",
        "perm = combinations (data,2)\n",
        "for i in list (perm):\n",
        "  print(i)\n",
        "  count += 1\n",
        "  print(\"Combination Count: \",count)\n"
      ],
      "metadata": {
        "colab": {
          "base_uri": "https://localhost:8080/"
        },
        "id": "h0KTb0XWQ-xZ",
        "outputId": "8659255e-0567-4c02-c576-92316843e7bd"
      },
      "execution_count": 4,
      "outputs": [
        {
          "output_type": "stream",
          "name": "stdout",
          "text": [
            "(1, 2)\n",
            "Combination Count:  1\n",
            "(1, 3)\n",
            "Combination Count:  2\n",
            "(2, 3)\n",
            "Combination Count:  3\n"
          ]
        }
      ]
    },
    {
      "cell_type": "code",
      "source": [
        "# Combination (Option 2)    ___ Combination count in this case will be six\n",
        "from itertools import combinations_with_replacement as cr\n",
        "count = 0\n",
        "data = [1,2,3]\n",
        "data2 = [2,1,3]\n",
        "perm = cr(data,2)\n",
        "for i in list(perm):\n",
        "  print(i)\n",
        "  count += 1\n",
        "  print(\"Combination with Element Count: \", count)"
      ],
      "metadata": {
        "colab": {
          "base_uri": "https://localhost:8080/"
        },
        "id": "RkOKuir4Rtbo",
        "outputId": "6c4938e6-46b7-41e2-b54c-60c01f3c58d1"
      },
      "execution_count": 5,
      "outputs": [
        {
          "output_type": "stream",
          "name": "stdout",
          "text": [
            "(1, 1)\n",
            "Combination with Element Count:  1\n",
            "(1, 2)\n",
            "Combination with Element Count:  2\n",
            "(1, 3)\n",
            "Combination with Element Count:  3\n",
            "(2, 2)\n",
            "Combination with Element Count:  4\n",
            "(2, 3)\n",
            "Combination with Element Count:  5\n",
            "(3, 3)\n",
            "Combination with Element Count:  6\n"
          ]
        }
      ]
    }
  ]
}